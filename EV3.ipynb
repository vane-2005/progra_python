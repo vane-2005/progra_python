{
  "metadata": {
    "language_info": {
      "codemirror_mode": {
        "name": "python",
        "version": 3
      },
      "file_extension": ".py",
      "mimetype": "text/x-python",
      "name": "python",
      "nbconvert_exporter": "python",
      "pygments_lexer": "ipython3",
      "version": "3.8"
    },
    "kernelspec": {
      "name": "python",
      "display_name": "Python (Pyodide)",
      "language": "python"
    }
  },
  "nbformat_minor": 4,
  "nbformat": 4,
  "cells": [
    {
      "cell_type": "code",
      "source": "import pickle\n\n# Crear un objeto\nobjeto = {\"clave\": \"valor\"}\n\n# Serializar el objeto y almacenarlo en un archivo binario\nwith open('mi_archivo.pickle', 'wb') as f:\n    pickle.dump(objeto, f)\n\n# Recuperar el contenido del archivo\nwith open('mi_archivo.pickle', 'rb') as f:\n    objeto_recuperado = pickle.load(f)\n\n# Imprimir el objeto recuperado\nprint(objeto_recuperado)\n",
      "metadata": {
        "trusted": true
      },
      "execution_count": 1,
      "outputs": [
        {
          "name": "stdout",
          "text": "{'clave': 'valor'}\n",
          "output_type": "stream"
        }
      ]
    },
    {
      "cell_type": "code",
      "source": "",
      "metadata": {},
      "execution_count": null,
      "outputs": []
    }
  ]
}