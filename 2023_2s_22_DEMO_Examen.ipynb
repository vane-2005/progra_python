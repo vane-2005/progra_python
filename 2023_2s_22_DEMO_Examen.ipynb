{
  "nbformat": 4,
  "nbformat_minor": 0,
  "metadata": {
    "colab": {
      "provenance": [],
      "include_colab_link": true
    },
    "kernelspec": {
      "name": "python3",
      "display_name": "Python 3"
    },
    "language_info": {
      "name": "python"
    }
  },
  "cells": [
    {
      "cell_type": "markdown",
      "metadata": {
        "id": "view-in-github",
        "colab_type": "text"
      },
      "source": [
        "<a href=\"https://colab.research.google.com/github/vane-2005/progra_python/blob/main/2023_2s_22_DEMO_Examen.ipynb\" target=\"_parent\"><img src=\"https://colab.research.google.com/assets/colab-badge.svg\" alt=\"Open In Colab\"/></a>"
      ]
    },
    {
      "cell_type": "markdown",
      "source": [
        "# **DEMO Examen**"
      ],
      "metadata": {
        "id": "efHadp-bFuAY"
      }
    },
    {
      "cell_type": "markdown",
      "source": [
        "Poner lista de participantes de equipo aquí (tabla markdown):"
      ],
      "metadata": {
        "id": "lO92aRr_IX0b"
      }
    },
    {
      "cell_type": "markdown",
      "source": [
        "La fórmula para calcular grados centígrados a partir de grados Farenheit es la siguiente:\n",
        "\n",
        "```\n",
        "C=(F-32)/1.8\n",
        "```\n",
        "\n",
        "La temperatura del cuerpo tiene las siguientes temperaturas:\n",
        "\n",
        "|Rango|Nombre de estado|\n",
        "|---|---|\n",
        "|[*,35)|Hipotermia|\n",
        "|[35,37)|Normal|\n",
        "|[37,38)|Febrícula|\n",
        "|[38,41)|Fiebre|\n",
        "|[41,*)|Hiperpirexia|\n",
        "\n",
        "En un hospital se hizo lectura de todos los pacientes de un piso. Desafortunadamente, solo se tenía un termónmetro que mide grados Farenheit.\n",
        "\n",
        "Se desea un programa que capture múltiples temperaturas, y que cuando se deje de capturar, muestre una lista de todas las lecturas tomadas.\n",
        "\n",
        "Se pide elaborar un programa en Python que contenga:\n",
        "\n",
        "1.  Una función llamada **capturar_f**, que pregunte un dato y que valide lo sigiente:\n",
        "    1. Que el dato no se omita.\n",
        "    1. Que el dato se apegue al patrón de uno a tres dígitos, un punto, y de una a tres decimales (debe validarse con regular expressions).\n",
        "    1. Que el valor convertido a floar esté entre 0.0 y 150.0\n",
        "    1. La función recibe como argumento un parámetro llamado **prompt**, que deberá tener un valor por omisión de \"Dame un número flotante:\"\n",
        "    1. La función retorna un valor flotante, que corrsponde a una conversión a float de lo capturado.\n",
        "    1. La función pregunta el dato hasta que sea correcto.\n",
        "    1. La función muestra mensajes de error de 3 niveles (Error, detalle, llamada a la acción).\n",
        "\n",
        "1. El programa debe definir una clase llamada **lectura**, que contenga lo siguiente:\n",
        "    1. **grados_f**: Es un atributo expuesto, de tipo float, que corresponde a la temperatura del paciente.\n",
        "    1. **grados_c**: Es una propiedad expuesta, que calcula el equivalente a centígrados de **grados_f**.\n",
        "    1. **estado**: Es una propiedad expuesta, que determina el estado de temperatura de la persona, de acuerdo a la tabla de estados.\n",
        "    1. **mostrar_lectura**: Es un método que muestra en consola el siguiente mensaje:\n",
        "\n",
        "```\n",
        "Farenheit: {grados_f}\n",
        "Centigrados: {grados_c}\n",
        "Estado: {estado}\n",
        "```\n",
        "\n",
        "La clase debe tener un método constructor, que reciba la propiedad **grados_f**.\n",
        "\n",
        "El programa principal debe hacer lo siguiente.\n",
        "\n",
        "1. Declarar una lista llamada **lecturas**, que almacenará todos los objetos de tipo **lectura** que se generen.\n",
        "1. Deberá iniciar un ciclo infinito.\n",
        "    1. Deberá preguntar la lectura usando la función **capturar_f**, especificando como prompt el texto \"Dame la temperatura del paciente:\"\n",
        "    1. Recibido el dato, se debe agregar a la lista de objetos (**lecturas**) una instancia de **lectura**, donde se utilice el dato capturado.\n",
        "    1. El programa debe preguntar si desea capturar una lectura más. Si es así, ``continue``, de lo contrario, ``break``.\n",
        "\n",
        "Fuera del ciclo, se debe leer de forma secuencial la lista de objetos, y ejecutar el método **mostrar_lectura**, para ver lo capturado.\n"
      ],
      "metadata": {
        "id": "oag6MUEIF4Jc"
      }
    },
    {
      "cell_type": "code",
      "execution_count": null,
      "metadata": {
        "id": "ypzWcwlzFslu"
      },
      "outputs": [],
      "source": [
        "# Codificar el programa aquí. Capturar al menos 20\n",
        "# temperaturas Farenheit, para comprobar el funcionamiento.\n"
      ]
    }
  ]
}