{
  "metadata": {
    "language_info": {
      "codemirror_mode": {
        "name": "python",
        "version": 3
      },
      "file_extension": ".py",
      "mimetype": "text/x-python",
      "name": "python",
      "nbconvert_exporter": "python",
      "pygments_lexer": "ipython3",
      "version": "3.8"
    },
    "kernelspec": {
      "name": "python",
      "display_name": "Python (Pyodide)",
      "language": "python"
    }
  },
  "nbformat_minor": 4,
  "nbformat": 4,
  "cells": [
    {
      "cell_type": "code",
      "source": "class Vestido:\n    def __init__(self, estilo, color):\n        self._estilo = estilo\n        self._color = color\n\n    @property\n    def estilo(self):\n        return self._estilo\n\n    @estilo.setter\n    def estilo(self, nuevo_estilo):\n        self._estilo = nuevo_estilo\n\n    @property\n    def color(self):\n        return self._color\n\n    @color.setter\n    def color(self, nuevo_color):\n        self._color = nuevo_color\n\n    def mostrar_informacion(self):\n        print(f\"Este vestido es de estilo {self._estilo} y tiene un color {self._color}.\")\n\n# Demostración de uso\nvestido1 = Vestido(\"Cóctel\", \"Rojo\")\nvestido1.mostrar_informacion()\n\n# Accediendo a los atributos y propiedades\nprint(f\"Estilo: {vestido1.estilo}\")\nprint(f\"Color: {vestido1.color}\")\n\n# Modificando atributos a través de propiedades\nvestido1.estilo = \"Noche\"\nvestido1.color = \"Azul\"\n\n# Volviendo a mostrar información después de modificar los datos\nvestido1.mostrar_informacion()\n",
      "metadata": {
        "trusted": true
      },
      "execution_count": 1,
      "outputs": [
        {
          "name": "stdout",
          "text": "Este vestido es de estilo Cóctel y tiene un color Rojo.\nEstilo: Cóctel\nColor: Rojo\nEste vestido es de estilo Noche y tiene un color Azul.\n",
          "output_type": "stream"
        }
      ]
    }
  ]
}