{
  "nbformat": 4,
  "nbformat_minor": 0,
  "metadata": {
    "colab": {
      "provenance": [],
      "include_colab_link": true
    },
    "kernelspec": {
      "name": "python3",
      "display_name": "Python 3"
    },
    "language_info": {
      "name": "python"
    }
  },
  "cells": [
    {
      "cell_type": "markdown",
      "metadata": {
        "id": "view-in-github",
        "colab_type": "text"
      },
      "source": [
        "<a href=\"https://colab.research.google.com/github/vane-2005/progra_python/blob/main/2023s2g22_Base_PIA.ipynb\" target=\"_parent\"><img src=\"https://colab.research.google.com/assets/colab-badge.svg\" alt=\"Open In Colab\"/></a>"
      ]
    },
    {
      "cell_type": "markdown",
      "source": [
        "# **PIA - PROGRAMACIÓN AVANZADA**\n",
        "\n",
        "En la Ciudad de Monterrey se celebrará un ciclo de conferencias de Tecnología.\n",
        "\n",
        "Las conferencias se realizarán en la Facultad de Contaduría Pública y Administración, de la UANL, los días 4, 5 y 6 de Noviembre de 2023.\n",
        "\n",
        "Las conferencias se realizarán en los siguientes auditorios:\n",
        "\n",
        "1. A: Gumersindo Cantú Hinojosa, con capacidad de 1000 asistentes.\n",
        "1. B: Víctor Gómez, con capacidad de 200 asistentes.\n",
        "1. C: Casas Alatriste, con capacidad de 150 asistentes.\n",
        "\n",
        "El calendario de las conferencias es el siguiente:\n",
        "\n",
        "1. 4 de noviembre, a las 15:00 horas. Inteligencia Artificial en los Negocios. Dr. Alvaro Francisco Salazar, en el auditorio A.\n",
        "1. 5 de noviembre, a las 9:00 horas. Uso de la nube para gestión de procesos. Dr. Manuel Leos, en el auditorio B.\n",
        "1. 5 de noviembre, a las 14:00 horas. Industria 4.0 retos y oportunidades. Dra. Monica Hernández, en el auditorio C.\n",
        "1. 5 de noviembre, a las 19:00 horas. Machine Learning for a better world. Dr. Janick Jameson, en el auditorio C.\n",
        "1. 6 de noviembre, a las 15:00 horas. Retos de la Banca Electrónica en México. Ing. Clara Benavides, en el auditorio A.\n",
        "\n",
        "Se desea que desarrolles una aplicación para almacenar la información de los alumnos asistentes a los eventos, bajo la premisa que no se puede exceder la capacidad de los recintos.\n",
        "\n",
        "La información que se desea recopilar de los alumnos asistentes es matrícula, nombre, primer apellido, segundo apellido, fecha de nacimiento, carrera (LTI, LA, CP, LNI, LGRS).\n",
        "\n",
        "Se le dará constancia de participación a los alumnos que asistan a 3 o más eventos del ciclo de conferencia.\n"
      ],
      "metadata": {
        "id": "fkUdyxk0mdMB"
      }
    },
    {
      "cell_type": "code",
      "source": [
        "# Declaraciones generales\n",
        "import re"
      ],
      "metadata": {
        "id": "V0E14uqetRh5"
      },
      "execution_count": null,
      "outputs": []
    },
    {
      "cell_type": "markdown",
      "source": [
        "### **MENÚ DE LA APLICACIÓN**\n",
        "\n",
        "Lo primero que debe aparecer es el menú de la aplicación.\n",
        "\n",
        "```\n",
        "**** MENÚ PRINCIPAL\n",
        "\n",
        "[A] Registrar un asistente.\n",
        "[B] Registrar asistente a un evento.\n",
        "[C] Registrar asistencia al evento.\n",
        "[D] Ver eventos del alumno.\n",
        "[E] Listado de asistencia a evento.\n",
        "[X] Salir\n",
        "\n",
        "Qué deseas hacer?:\n",
        "\n",
        "```"
      ],
      "metadata": {
        "id": "9EYMzd0rplPr"
      }
    },
    {
      "cell_type": "code",
      "source": [
        "def elegir_letra(prompt:str='Dame una letra: ',\n",
        "                 opciones_validas:str='12345'):\n",
        "        while True:\n",
        "            opcion=input(prompt)\n",
        "            opcion=opcion.upper()\n",
        "            if (opcion==''):\n",
        "                print('Error en captura. Opción no se puede omitir. Inténtelo de nuevo')\n",
        "                continue\n",
        "            if not bool(re.match(f'^[{opciones_validas}]$',opcion)):\n",
        "                print('Error en captura. Opción no reconocida. Inténtelo de nuevo')\n",
        "                continue\n",
        "            # Si todo fue bien, se sale.\n",
        "            break\n",
        "        return opcion"
      ],
      "metadata": {
        "id": "MXTYmzlyvpwx"
      },
      "execution_count": null,
      "outputs": []
    },
    {
      "cell_type": "code",
      "source": [
        "def mostrar_menu(\n",
        "    opciones:dict,\n",
        "    titulo:str='OPCIONES DISPONIBLES'):\n",
        "\n",
        "    print(titulo)\n",
        "    opciones_validas=''\n",
        "    for k,v in opciones.items():\n",
        "        print(f'[{k}] {v}')\n",
        "        opciones_validas=f'{opciones_validas}{k}'\n",
        "\n",
        "    opc=elegir_letra('Qué opción deseas?: ', opciones_validas)\n",
        "    return opc\n"
      ],
      "metadata": {
        "id": "RmD60_DPsZvC"
      },
      "execution_count": null,
      "outputs": []
    },
    {
      "cell_type": "markdown",
      "source": [
        "## **REGISTRAR ASISTENTE**\n",
        "\n",
        "Me aparecerá un menú que dice:\n",
        "\n",
        "```\n",
        "[A] Registrar nuevo asistente.\n",
        "[B] Eliminar asistente.\n",
        "[C] Modificar datos de asistente.\n",
        "[D] Consultar asistente.\n",
        "[X] Regresar al menú principal.\n",
        "\n",
        "Qué deseas hacer?\n",
        "```"
      ],
      "metadata": {
        "id": "eqM30pr3rFOw"
      }
    },
    {
      "cell_type": "code",
      "execution_count": null,
      "metadata": {
        "colab": {
          "base_uri": "https://localhost:8080/"
        },
        "id": "5geLx82XmUrk",
        "outputId": "ab86d2a4-68c8-4463-a7c2-c85c26591786"
      },
      "outputs": [
        {
          "output_type": "stream",
          "name": "stdout",
          "text": [
            "\n",
            "** MENÚ PRINCIPAL\n",
            "\n",
            "[A] Registrar un asistente\n",
            "[B] Registrar asistente a un evento\n",
            "[C] Registrar asistencia al evento\n",
            "[D] Ver eventos del alumno\n",
            "[E] Listado de asistencia\n",
            "[X] Salir\n",
            "\n",
            "Qué opción deseas?: A\n",
            "\n",
            "** MENÚ ASISTENTES\n",
            "\n",
            "[A] Registrar un asistente\n",
            "[B] Registrar asistente a un evento\n",
            "[X] Salir\n",
            "\n",
            "Qué opción deseas?: X\n",
            "\n",
            "** MENÚ PRINCIPAL\n",
            "\n",
            "[A] Registrar un asistente\n",
            "[B] Registrar asistente a un evento\n",
            "[C] Registrar asistencia al evento\n",
            "[D] Ver eventos del alumno\n",
            "[E] Listado de asistencia\n",
            "[X] Salir\n",
            "\n",
            "Qué opción deseas?: X\n",
            "Gracias por usar el sistema.\n"
          ]
        }
      ],
      "source": [
        "# Programa principal\n",
        "\n",
        "opciones_menu_principal={\n",
        "    'A':'Registrar un asistente',\n",
        "    'B':'Registrar asistente a un evento',\n",
        "    'C':'Registrar asistencia al evento',\n",
        "    'D':'Ver eventos del alumno',\n",
        "    'E':'Listado de asistencia',\n",
        "    'X':'Salir\\n'\n",
        "}\n",
        "\n",
        "opciones_menu_asistentes={\n",
        "    'A':'Registrar un asistente',\n",
        "    'B':'Registrar asistente a un evento',\n",
        "    'X':'Salir\\n'\n",
        "}\n",
        "\n",
        "while True:\n",
        "    opcion_elegida=mostrar_menu(opciones_menu_principal, '\\n** MENÚ PRINCIPAL\\n')\n",
        "    match opcion_elegida:\n",
        "        case 'A':\n",
        "            while True:\n",
        "                opcion_elegida_asistente=mostrar_menu(opciones_menu_asistentes, '\\n** MENÚ ASISTENTES\\n')\n",
        "                match opcion_elegida_asistente:\n",
        "                    case 'X':\n",
        "                        break\n",
        "                    case _:\n",
        "                        print('Opción no reconocida.')\n",
        "                        continue\n",
        "        case 'X':\n",
        "            print('Gracias por usar el sistema.')\n",
        "            break\n",
        "        case _:\n",
        "            print('Opción no reconocida.')\n",
        "            continue\n",
        "\n"
      ]
    },
    {
      "cell_type": "markdown",
      "source": [
        "## **REPRESENTACIÓN DE DATOS**\n",
        "\n",
        "1. A: Gumersindo Cantú Hinojosa, con capacidad de 1000 asistentes.\n",
        "1. B: Víctor Gómez, con capacidad de 200 asistentes.\n",
        "1. C: Casas Alatriste, con capacidad de 150 asistentes.\n",
        "\n",
        "¿Cómo representar esto en forma de datos?"
      ],
      "metadata": {
        "id": "UnbeNidxnk8c"
      }
    },
    {
      "cell_type": "code",
      "source": [
        "# Representación de auditorios en un diccionario.\n",
        "auditorios={\n",
        "    'A': ['Gumersindo Cantú Hinojosa', 1000],\n",
        "    'B': ['Víctor Gómez', 200],\n",
        "    'C': ['Casas Alatriste', 150]\n",
        "}\n"
      ],
      "metadata": {
        "id": "OOh_1kfMnjbK"
      },
      "execution_count": null,
      "outputs": []
    },
    {
      "cell_type": "markdown",
      "source": [
        "1. 4 de noviembre, a las 15:00 horas. Inteligencia Artificial en los Negocios. Dr. Alvaro Francisco Salazar, en el auditorio A.\n",
        "1. 5 de noviembre, a las 9:00 horas. Uso de la nube para gestión de procesos. Dr. Manuel Leos, en el auditorio B.\n",
        "1. 5 de noviembre, a las 14:00 horas. Industria 4.0 retos y oportunidades. Dra. Monica Hernández, en el auditorio C.\n",
        "1. 5 de noviembre, a las 19:00 horas. Machine Learning for a better world. Dr. Janick Jameson, en el auditorio C.\n",
        "1. 6 de noviembre, a las 15:00 horas. Retos de la Banca Electrónica en México. Ing. Clara Benavides, en el auditorio A."
      ],
      "metadata": {
        "id": "6gNrvvUrqU6I"
      }
    },
    {
      "cell_type": "code",
      "source": [
        "from IPython.core.excolors import exception_colors\n",
        "conferencias={\n",
        "    1:['04/11/2023 15:00','Inteligencia Artificial en los Negocios',\n",
        "       'Dr. Alvaro Francisco Salazar', 'A', 0],\n",
        "    2:['05/11/2023 09:00','Uso de la nube para gestión de procesos',\n",
        "       'Dr. Manuel Leos','B',0],\n",
        "    3:['05/11/2023 14:00','Industria 4.0 retos y oportunidades',\n",
        "       'Dra. Monica Hernández','C',20],\n",
        "    4:['05/11/2023 19:00','Machine Learning for a better world',\n",
        "       'Dr. Janick Jameson','C',0],\n",
        "    5:['06/11/2023 15:00','Retos de la Banca Electrónica en México',\n",
        "       'Ing. Clara Benavides','A',0]\n",
        "}\n",
        "\n",
        "conferencia=0\n",
        "while True:\n",
        "    _conferencia=input('A qué conferencia deseas inscribirte?: ')\n",
        "    # Validar que no se omita\n",
        "    if (_conferencia==''):\n",
        "        print('Error. Se debe especificar una conferencia válida. Intenta de nuevo')\n",
        "        continue\n",
        "    # Validar que sea entero.\n",
        "    try:\n",
        "        conferencia=int(_conferencia)\n",
        "    except:\n",
        "        print('Error.Debe ser entero. Intenta de nuevo')\n",
        "        continue\n",
        "    # Validar que la conferencia exista\n",
        "    if not (conferencia in conferencias):\n",
        "        print('Error. Esa conferencia no existe. Intenta de nuevo')\n",
        "        continue\n",
        "    # Si capturé una conferencia existente, que la despliegue.\n",
        "    break\n",
        "\n",
        "print('Encontré.')\n"
      ],
      "metadata": {
        "colab": {
          "base_uri": "https://localhost:8080/"
        },
        "id": "F6T3WYFGqpPC",
        "outputId": "9bd70dc4-8a3f-498f-983c-225308f9c7b5"
      },
      "execution_count": null,
      "outputs": [
        {
          "output_type": "stream",
          "name": "stdout",
          "text": [
            "A qué conferencia deseas inscribirte?: 3\n",
            "Encontré.\n"
          ]
        }
      ]
    },
    {
      "cell_type": "code",
      "source": [
        "def info_disponibilidad(conferencia_deseada:int):\n",
        "    datos_conferencia=conferencias.get(conferencia_deseada,'')\n",
        "    print(f'Conferencia: {datos_conferencia[1]}')\n",
        "    print(f'Expositor: {datos_conferencia[2]}')\n",
        "    print(f'Fecha: {datos_conferencia[0]}')\n",
        "    nombre_auditorio=auditorios.get(datos_conferencia[3],'')[0]\n",
        "    capacidad_auditorio=auditorios.get(datos_conferencia[3],'')[1]\n",
        "    lugares_disponibles=capacidad_auditorio-datos_conferencia[4]\n",
        "    print(f'Auditorio: {nombre_auditorio}')\n",
        "    print(f'Lugares disponibles: {lugares_disponibles:,}')\n",
        "    return lugares_disponibles\n",
        "\n",
        "disponibilidad=info_disponibilidad(conferencia)"
      ],
      "metadata": {
        "colab": {
          "base_uri": "https://localhost:8080/"
        },
        "id": "APcOhs7DuD1M",
        "outputId": "a14d0eb6-a631-4fca-c9eb-bf0f145801cf"
      },
      "execution_count": null,
      "outputs": [
        {
          "output_type": "stream",
          "name": "stdout",
          "text": [
            "Conferencia: Industria 4.0 retos y oportunidades\n",
            "Expositor: Dra. Monica Hernández\n",
            "Fecha: 05/11/2023 14:00\n",
            "Auditorio: Casas Alatriste\n",
            "Lugares disponibles: 130\n"
          ]
        }
      ]
    },
    {
      "cell_type": "code",
      "source": [
        "def inscribir(conferencia_destino:int,cant:int=0):\n",
        "    conferencias[conferencia_destino][4]+=cant\n",
        "\n",
        "nuevos_asistentes=5\n",
        "disponibilidad=disponibilidad=info_disponibilidad(conferencia)\n",
        "\n",
        "if (disponibilidad>=nuevos_asistentes):\n",
        "    inscribir(conferencia,nuevos_asistentes)\n",
        "\n",
        "disponibilidad=info_disponibilidad(conferencia)"
      ],
      "metadata": {
        "colab": {
          "base_uri": "https://localhost:8080/"
        },
        "id": "c8XcfutKw-Oc",
        "outputId": "099b2a98-54b9-4687-9573-1399d7b7ecb4"
      },
      "execution_count": null,
      "outputs": [
        {
          "output_type": "stream",
          "name": "stdout",
          "text": [
            "Conferencia: Industria 4.0 retos y oportunidades\n",
            "Expositor: Dra. Monica Hernández\n",
            "Fecha: 05/11/2023 14:00\n",
            "Auditorio: Casas Alatriste\n",
            "Lugares disponibles: 125\n",
            "Conferencia: Industria 4.0 retos y oportunidades\n",
            "Expositor: Dra. Monica Hernández\n",
            "Fecha: 05/11/2023 14:00\n",
            "Auditorio: Casas Alatriste\n",
            "Lugares disponibles: 120\n"
          ]
        }
      ]
    },
    {
      "cell_type": "code",
      "source": [
        "carreras={\n",
        "    'LTI':'LICENCIADO EN TECNOLOGÍA DE LA INFORMACIÓN',\n",
        "    'LA':'LICENCIADO EN ADMINISTRACIÓN',\n",
        "    'CP':'CONTADOR PÚBLICO',\n",
        "    'LNI':'LICENCIADO EN NEGOCIOS INTERNACIONALES',\n",
        "    'LGRS':'LICENCIADO EN GESTIÓN DE RESPONSABILIDAD SOCIAL'\n",
        "}"
      ],
      "metadata": {
        "id": "1Od1r0zXze9B"
      },
      "execution_count": null,
      "outputs": []
    }
  ]
}